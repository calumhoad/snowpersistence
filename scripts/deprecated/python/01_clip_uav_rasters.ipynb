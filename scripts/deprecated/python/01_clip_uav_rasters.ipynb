{
 "cells": [
  {
   "cell_type": "code",
   "execution_count": 11,
   "metadata": {},
   "outputs": [],
   "source": [
    "# Imports\n",
    "import geopandas as gpd\n",
    "import rasterio\n",
    "from rasterio.mask import mask\n",
    "from rasterio.windows import from_bounds"
   ]
  },
  {
   "cell_type": "code",
   "execution_count": 14,
   "metadata": {},
   "outputs": [],
   "source": [
    "# Locate all of the original UAV TIFs \n",
    "\n",
    "# Blaesedalen\n",
    "bl1 = \"../data/uav/M3Mexports/20230702-div128.tif\"\n",
    "bl2 = \"../data/uav/M3Mexports/20230712-div128.tif\"\n",
    "bl3 = \"../data/uav/M3Mexports/20230718-div128.tif\"\n",
    "bl4 = \"../data/uav/M3Mexports/20230726-div128.tif\"\n",
    "bl5 = \"../data/uav/MAIA-exports/20230726/20230726-div32768.tif\"\n",
    "\n",
    "# Kluane Low\n",
    "kl1 = \"../../data/uav/MAIA-exports/20220629/20220629-div32768.tif\"\n",
    "kl2 = \"../../data/uav/MAIA-exports/20220705/20220705-div32768.tif\"\n",
    "kl3 = \"../../data/uav/MAIA-exports/20220718/20220718-div32768.tif\"\n",
    "kl4 = \"../../data/uav/MAIA-exports/20220814/20220814-div32768.tif\"\n",
    "\n",
    "# Kluane High\n",
    "kh1 = \"../data/uav/MAIA-exports/20220709/20220709-div32768.tif\"\n",
    "kh2 = \"../data/uav/MAIA-exports/20220719/20220719-div32768.tif\"\n",
    "kh3 = \"../data/uav/MAIA-exports/20220729/20220729-div32768.tif\"\n",
    "kh4 = \"../data/uav/MAIA-exports/20220813/20220813-div32768.tif\"\n",
    "\n",
    "# List the UAV TIFs per location\n",
    "blaesedalen = [bl1, bl2, bl3, bl4, bl5]\n",
    "kluaneLow = [kl1, kl2, kl3, kl4]\n",
    "kluaneHigh = [kh1, kh2, kh3, kh4]\n",
    "\n",
    "# Concatenate to list of all plots\n",
    "allUAV = [blaesedalen + kluaneLow + kluaneHigh]"
   ]
  },
  {
   "cell_type": "code",
   "execution_count": 13,
   "metadata": {},
   "outputs": [],
   "source": [
    "# Clipping coordinates\n",
    "klCoords = gpd.read_file(\"../../data/plot-coords/kluane-low.json\") "
   ]
  },
  {
   "cell_type": "code",
   "execution_count": 19,
   "metadata": {},
   "outputs": [
    {
     "data": {
      "text/plain": [
       "'../data/uav/MAIA-exports/20220709/20220709-div32768'"
      ]
     },
     "execution_count": 19,
     "metadata": {},
     "output_type": "execute_result"
    }
   ],
   "source": [
    "kh1[0:-4]"
   ]
  },
  {
   "cell_type": "code",
   "execution_count": 29,
   "metadata": {},
   "outputs": [
    {
     "name": "stdout",
     "output_type": "stream",
     "text": [
      "POLYGON ((-138.4177842009962 60.969333480490604, -138.41746769947537 60.96631710566089, -138.41079404621922 60.966274855157735, -138.41113914126714 60.969501214996, -138.4177842009962 60.969333480490604))\n",
      "POLYGON ((-138.4177842009962 60.969333480490604, -138.41746769947537 60.96631710566089, -138.41079404621922 60.966274855157735, -138.41113914126714 60.969501214996, -138.4177842009962 60.969333480490604))\n",
      "POLYGON ((-138.4177842009962 60.969333480490604, -138.41746769947537 60.96631710566089, -138.41079404621922 60.966274855157735, -138.41113914126714 60.969501214996, -138.4177842009962 60.969333480490604))\n",
      "POLYGON ((-138.4177842009962 60.969333480490604, -138.41746769947537 60.96631710566089, -138.41079404621922 60.966274855157735, -138.41113914126714 60.969501214996, -138.4177842009962 60.969333480490604))\n"
     ]
    }
   ],
   "source": [
    "for tif in kluaneLow:\n",
    "    with rasterio.open(tif) as src:\n",
    "        # Perform clipping based on geojson geom\n",
    "        for index, row in klCoords.iterrows():\n",
    "            geom = row['geometry']\n",
    "            print(geom)\n",
    "            out_file = f\"{tif[0:-4]}_clipped2.tif\""
   ]
  },
  {
   "cell_type": "code",
   "execution_count": 24,
   "metadata": {},
   "outputs": [
    {
     "ename": "TypeError",
     "evalue": "Integer width and height are required.",
     "output_type": "error",
     "traceback": [
      "\u001b[1;31m---------------------------------------------------------------------------\u001b[0m",
      "\u001b[1;31mTypeError\u001b[0m                                 Traceback (most recent call last)",
      "\u001b[1;32mrasterio\\_io.pyx\u001b[0m in \u001b[0;36mrasterio._io.DatasetWriterBase.__init__\u001b[1;34m()\u001b[0m\n",
      "\u001b[1;31mTypeError\u001b[0m: int() argument must be a string, a bytes-like object or a number, not 'NoneType'",
      "\nDuring handling of the above exception, another exception occurred:\n",
      "\u001b[1;31mTypeError\u001b[0m                                 Traceback (most recent call last)",
      "\u001b[1;32m<ipython-input-24-e948bcdcfb05>\u001b[0m in \u001b[0;36m<module>\u001b[1;34m\u001b[0m\n\u001b[0;32m     10\u001b[0m \u001b[1;33m\u001b[0m\u001b[0m\n\u001b[0;32m     11\u001b[0m             \u001b[1;31m# Create new dataset for the clipped output\u001b[0m\u001b[1;33m\u001b[0m\u001b[1;33m\u001b[0m\u001b[1;33m\u001b[0m\u001b[0m\n\u001b[1;32m---> 12\u001b[1;33m             with rasterio.open(out_file, 'w', driver = 'GTiff',\n\u001b[0m\u001b[0;32m     13\u001b[0m                               count = src.count, dtype = src.dtypes[0], crs = src.crs, transform = src.transform) as out_dst:\n\u001b[0;32m     14\u001b[0m                 \u001b[1;31m# Read and write the clipped data\u001b[0m\u001b[1;33m\u001b[0m\u001b[1;33m\u001b[0m\u001b[1;33m\u001b[0m\u001b[0m\n",
      "\u001b[1;32m~\\Anaconda3\\lib\\site-packages\\rasterio\\env.py\u001b[0m in \u001b[0;36mwrapper\u001b[1;34m(*args, **kwds)\u001b[0m\n\u001b[0;32m    449\u001b[0m \u001b[1;33m\u001b[0m\u001b[0m\n\u001b[0;32m    450\u001b[0m         \u001b[1;32mwith\u001b[0m \u001b[0menv_ctor\u001b[0m\u001b[1;33m(\u001b[0m\u001b[0msession\u001b[0m\u001b[1;33m=\u001b[0m\u001b[0msession\u001b[0m\u001b[1;33m)\u001b[0m\u001b[1;33m:\u001b[0m\u001b[1;33m\u001b[0m\u001b[1;33m\u001b[0m\u001b[0m\n\u001b[1;32m--> 451\u001b[1;33m             \u001b[1;32mreturn\u001b[0m \u001b[0mf\u001b[0m\u001b[1;33m(\u001b[0m\u001b[1;33m*\u001b[0m\u001b[0margs\u001b[0m\u001b[1;33m,\u001b[0m \u001b[1;33m**\u001b[0m\u001b[0mkwds\u001b[0m\u001b[1;33m)\u001b[0m\u001b[1;33m\u001b[0m\u001b[1;33m\u001b[0m\u001b[0m\n\u001b[0m\u001b[0;32m    452\u001b[0m \u001b[1;33m\u001b[0m\u001b[0m\n\u001b[0;32m    453\u001b[0m     \u001b[1;32mreturn\u001b[0m \u001b[0mwrapper\u001b[0m\u001b[1;33m\u001b[0m\u001b[1;33m\u001b[0m\u001b[0m\n",
      "\u001b[1;32m~\\Anaconda3\\lib\\site-packages\\rasterio\\__init__.py\u001b[0m in \u001b[0;36mopen\u001b[1;34m(fp, mode, driver, width, height, count, crs, transform, dtype, nodata, sharing, **kwargs)\u001b[0m\n\u001b[0;32m    341\u001b[0m             \u001b[0mwriter\u001b[0m \u001b[1;33m=\u001b[0m \u001b[0mget_writer_for_driver\u001b[0m\u001b[1;33m(\u001b[0m\u001b[0mdriver\u001b[0m\u001b[1;33m)\u001b[0m\u001b[1;33m\u001b[0m\u001b[1;33m\u001b[0m\u001b[0m\n\u001b[0;32m    342\u001b[0m             \u001b[1;32mif\u001b[0m \u001b[0mwriter\u001b[0m \u001b[1;32mis\u001b[0m \u001b[1;32mnot\u001b[0m \u001b[1;32mNone\u001b[0m\u001b[1;33m:\u001b[0m\u001b[1;33m\u001b[0m\u001b[1;33m\u001b[0m\u001b[0m\n\u001b[1;32m--> 343\u001b[1;33m                 dataset = writer(\n\u001b[0m\u001b[0;32m    344\u001b[0m                     \u001b[0mpath\u001b[0m\u001b[1;33m,\u001b[0m\u001b[1;33m\u001b[0m\u001b[1;33m\u001b[0m\u001b[0m\n\u001b[0;32m    345\u001b[0m                     \u001b[0mmode\u001b[0m\u001b[1;33m,\u001b[0m\u001b[1;33m\u001b[0m\u001b[1;33m\u001b[0m\u001b[0m\n",
      "\u001b[1;32mrasterio\\_io.pyx\u001b[0m in \u001b[0;36mrasterio._io.DatasetWriterBase.__init__\u001b[1;34m()\u001b[0m\n",
      "\u001b[1;31mTypeError\u001b[0m: Integer width and height are required."
     ]
    }
   ],
   "source": [
    "for tif in kluaneLow:\n",
    "    with rasterio.open(tif) as src:\n",
    "        # Perform clipping based on geojson geom\n",
    "        for index, row in klCoords.iterrows():\n",
    "            geom = row['geometry']\n",
    "            out_file = f\"{tif[0:-4]}_clipped2.tif\"\n",
    "            \n",
    "            # Calculate the bounding box of the geom for efficient read\n",
    "            clipped_data, _ = mask(src, [geom], crop=True)\n",
    "            \n",
    "            # Create new dataset for the clipped output\n",
    "            with rasterio.open(out_file, 'w', driver = 'GTiff',\n",
    "                              count = src.count, dtype = src.dtypes[0], crs = src.crs, transform = src.transform) as out_dst:\n",
    "                # Read and write the clipped data\n",
    "                for band in range(1, src.count + 1):\n",
    "                    out_dst.write(src.read(band, window = window), band)\n",
    "\n",
    "print('Clipping complete')\n",
    "                \n",
    "    "
   ]
  },
  {
   "cell_type": "code",
   "execution_count": 27,
   "metadata": {},
   "outputs": [
    {
     "name": "stdout",
     "output_type": "stream",
     "text": [
      "Clipping complete.\n"
     ]
    }
   ],
   "source": [
    "for tif_file in kluaneLow:\n",
    "    with rasterio.open(tif_file) as src:\n",
    "        # Perform the clipping based on the GeoJSON geometries\n",
    "        for index, row in klCoords.iterrows():\n",
    "            geom = row['geometry']\n",
    "            out_file = f'{tif_file[0:-4]}_clippedPy.tif'  # Change the output file name as needed\n",
    "\n",
    "            # Clip the GeoTIFF using the polygon geometry\n",
    "            clipped_data, out_transform = mask(src, [geom], crop=True)\n",
    "            \n",
    "            # Create a new dataset for the clipped output\n",
    "            with rasterio.open(out_file, 'w', driver='GTiff', \n",
    "                               count=src.count,  # Number of bands\n",
    "                               width=clipped_data.shape[2],  # Width of the clipped data\n",
    "                               height=clipped_data.shape[1],  # Height of the clipped data\n",
    "                               dtype=clipped_data.dtype, \n",
    "                               crs=src.crs, \n",
    "                               transform=out_transform) as out_dst:\n",
    "                out_dst.write(clipped_data)\n",
    "\n",
    "print(\"Clipping complete.\")\n"
   ]
  },
  {
   "cell_type": "code",
   "execution_count": null,
   "metadata": {},
   "outputs": [],
   "source": []
  }
 ],
 "metadata": {
  "kernelspec": {
   "display_name": "Python 3",
   "language": "python",
   "name": "python3"
  },
  "language_info": {
   "codemirror_mode": {
    "name": "ipython",
    "version": 3
   },
   "file_extension": ".py",
   "mimetype": "text/x-python",
   "name": "python",
   "nbconvert_exporter": "python",
   "pygments_lexer": "ipython3",
   "version": "3.8.3"
  }
 },
 "nbformat": 4,
 "nbformat_minor": 4
}
